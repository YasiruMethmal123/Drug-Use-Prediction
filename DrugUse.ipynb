{
 "cells": [
  {
   "cell_type": "code",
   "execution_count": null,
   "id": "b10c5b11-ede9-4e63-bd17-8a35da165102",
   "metadata": {},
   "outputs": [],
   "source": []
  }
 ],
 "metadata": {
  "kernelspec": {
   "display_name": "",
   "name": ""
  },
  "language_info": {
   "name": ""
  }
 },
 "nbformat": 4,
 "nbformat_minor": 5
}
